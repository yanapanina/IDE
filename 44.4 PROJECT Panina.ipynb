{
 "cells": [
  {
   "cell_type": "markdown",
   "metadata": {},
   "source": [
    "                                                      44.4 PROJECT Цели: \n",
    "Гипотеза 1. Определить, насколько обучение сокращает время прохождения этапов игры.                                    \n",
    "\n",
    "Гипотеза 2. Доказать, что успешное обучение само по себе влияет на оплату и не имеет значения то, каким этапом оно шло.\n",
    "\n",
    "Гипотеза 3. Определить, насколько прозрачен процесс взаимодействия с игрой."
   ]
  },
  {
   "cell_type": "code",
   "execution_count": 211,
   "metadata": {},
   "outputs": [
    {
     "name": "stderr",
     "output_type": "stream",
     "text": [
      "/var/folders/2t/41ymw9416szdry3f82rfxvr80000gn/T/ipykernel_48003/1547488935.py:9: SettingWithCopyWarning: \n",
      "A value is trying to be set on a copy of a slice from a DataFrame.\n",
      "Try using .loc[row_indexer,col_indexer] = value instead\n",
      "\n",
      "See the caveats in the documentation: https://pandas.pydata.org/pandas-docs/stable/user_guide/indexing.html#returning-a-view-versus-a-copy\n",
      "  events_2018.start_time = pd.to_datetime(events_2018.start_time, format='%Y-%m-%dT%H:%M:%S')\n",
      "/var/folders/2t/41ymw9416szdry3f82rfxvr80000gn/T/ipykernel_48003/1547488935.py:11: SettingWithCopyWarning: \n",
      "A value is trying to be set on a copy of a slice from a DataFrame.\n",
      "Try using .loc[row_indexer,col_indexer] = value instead\n",
      "\n",
      "See the caveats in the documentation: https://pandas.pydata.org/pandas-docs/stable/user_guide/indexing.html#returning-a-view-versus-a-copy\n",
      "  purchase_2018.event_datetime = pd.to_datetime(purchase_2018.event_datetime, format='%Y-%m-%dT%H:%M:%S')\n",
      "/var/folders/2t/41ymw9416szdry3f82rfxvr80000gn/T/ipykernel_48003/1547488935.py:12: SettingWithCopyWarning: \n",
      "A value is trying to be set on a copy of a slice from a DataFrame.\n",
      "Try using .loc[row_indexer,col_indexer] = value instead\n",
      "\n",
      "See the caveats in the documentation: https://pandas.pydata.org/pandas-docs/stable/user_guide/indexing.html#returning-a-view-versus-a-copy\n",
      "  purchase_2018[\"event_type\"] = 'purchase'\n"
     ]
    }
   ],
   "source": [
    "import pandas as pd\n",
    "import numpy as np\n",
    "import matplotlib.pyplot as plt\n",
    "purchase_df = pd.read_csv('data/purchase.csv', sep=',')\n",
    "events_df = pd.read_csv('data/7_4_Events.csv', sep=',')\n",
    "condition = (events_df.start_time >= '2018-01-01') & (events_df.start_time < '2019-01-01') & (events_df.event_type =='registration')\n",
    "registered = events_df[condition]['user_id'].to_list()\n",
    "events_2018 = events_df[events_df.user_id.isin(registered)]\n",
    "events_2018.start_time = pd.to_datetime(events_2018.start_time, format='%Y-%m-%dT%H:%M:%S')\n",
    "purchase_2018 = purchase_df[purchase_df['user_id'].isin(registered)]\n",
    "purchase_2018.event_datetime = pd.to_datetime(purchase_2018.event_datetime, format='%Y-%m-%dT%H:%M:%S')\n",
    "purchase_2018[\"event_type\"] = 'purchase'\n",
    "events_2018 = events_2018.rename(columns={\"id\": \"event_id\"})\n",
    "purchase_2018 = purchase_2018.rename(columns={\"id\": \"purchase_id\"})\n",
    "purchase_2018 = purchase_2018.rename(columns={\"event_datetime\": \"start_time\"}) \n",
    "total_events_df = pd.concat([events_2018,purchase_2018],sort=False)\n",
    "total_events_df = total_events_df.reset_index(drop=True).sort_values('start_time')\n",
    "registration_df = total_events_df[total_events_df['event_type'] == 'registration']\n",
    "registration_df = registration_df[[\"user_id\", \"start_time\"]].rename(columns={\"start_time\": \"registration_time\"})\n",
    "first_purchase_df = total_events_df[total_events_df['event_type'] == 'purchase']\n",
    "first_purchase_df = first_purchase_df[[\"user_id\", \"start_time\"]].rename(columns={\"start_time\": \"first_purchase_time\"})\n"
   ]
  },
  {
   "cell_type": "markdown",
   "metadata": {},
   "source": [
    "                                                          Гипотеза 1"
   ]
  },
  {
   "cell_type": "code",
   "execution_count": 212,
   "metadata": {},
   "outputs": [
    {
     "name": "stdout",
     "output_type": "stream",
     "text": [
      "11858 10250 8068\n"
     ]
    }
   ],
   "source": [
    "# Создаем группы пользователей в зависимости от обучения:\n",
    "users_with_started_tutorial = total_events_df[total_events_df['event_type'] == 'tutorial_start'][\"user_id\"].unique()\n",
    "users_with_finished_tutorial = total_events_df[total_events_df[\"event_type\"] == \"tutorial_finish\"][\"user_id\"].unique()\n",
    "all_users = total_events_df[\"user_id\"].unique()\n",
    "set_all_users = set(all_users)\n",
    "set_users_with_started_tutorial = set(users_with_started_tutorial)\n",
    "set_users_not_started_tutorial = set_all_users.difference(set_users_with_started_tutorial)\n",
    "print(len(users_with_started_tutorial),len(users_with_finished_tutorial),len(set_users_not_started_tutorial))"
   ]
  },
  {
   "cell_type": "code",
   "execution_count": 252,
   "metadata": {},
   "outputs": [],
   "source": [
    "# Для каждой группы создаем датафреймы с событиями регистрации и оплаты:\n",
    "started_tutorial_registration_df = total_events_df[total_events_df[\"event_type\"] == \"registration\"]\n",
    "started_tutorial_registration_df = started_tutorial_registration_df[started_tutorial_registration_df['user_id'].isin(users_with_started_tutorial)]\n",
    "started_tutorial_registration_df = started_tutorial_registration_df.sort_values('start_time').drop_duplicates('user_id')\n",
    "\n",
    "finished_tutorial_registration_df = total_events_df[total_events_df[\"event_type\"] == \"registration\"]\n",
    "finished_tutorial_registration_df = finished_tutorial_registration_df[finished_tutorial_registration_df['user_id'].isin(users_with_finished_tutorial)]\n",
    "finished_tutorial_registration_df = finished_tutorial_registration_df.sort_values('start_time').drop_duplicates('user_id')\n",
    "\n",
    "not_started_tutorial_registration_df = total_events_df[total_events_df[\"event_type\"] == \"registration\"]\n",
    "not_started_tutorial_registration_df = not_started_tutorial_registration_df[not_started_tutorial_registration_df['user_id'].isin(set_users_not_started_tutorial)]\n",
    "not_started_tutorial_registration_df = not_started_tutorial_registration_df.sort_values('start_time').drop_duplicates('user_id')\n",
    "\n",
    "started_tutorial_purchase_df = total_events_df[total_events_df[\"event_type\"] == \"purchase\"]\n",
    "started_tutorial_purchase_df = started_tutorial_purchase_df[started_tutorial_purchase_df['user_id'].isin(users_with_started_tutorial)]\n",
    "started_tutorial_purchase_df = started_tutorial_purchase_df.sort_values('start_time').drop_duplicates('user_id')\n",
    "\n",
    "finished_tutorial_purchase_df = total_events_df[total_events_df[\"event_type\"] == \"purchase\"]\n",
    "finished_tutorial_purchase_df = finished_tutorial_purchase_df[finished_tutorial_purchase_df['user_id'].isin(users_with_finished_tutorial)]\n",
    "finished_tutorial_purchase_df = finished_tutorial_purchase_df.sort_values('start_time').drop_duplicates('user_id')\n",
    "\n",
    "not_started_tutorial_purchase_df = total_events_df[total_events_df[\"event_type\"] == \"purchase\"]\n",
    "not_started_tutorial_purchase_df = not_started_tutorial_purchase_df[not_started_tutorial_purchase_df['user_id'].isin(set_users_not_started_tutorial)]\n",
    "not_started_tutorial_purchase_df = not_started_tutorial_purchase_df.sort_values('start_time').drop_duplicates('user_id')\n",
    "\n",
    "finished_tutorial_purchase_df1 = finished_tutorial_purchase_df[[\"user_id\", \"start_time\"]].rename(columns={\"start_time\": \"purchase_time\"})\n",
    "not_started_tutorial_purchase_df1 = not_started_tutorial_purchase_df[[\"user_id\", \"start_time\"]].rename(columns={\"start_time\": \"purchase_time\"})"
   ]
  },
  {
   "cell_type": "code",
   "execution_count": 254,
   "metadata": {},
   "outputs": [
    {
     "name": "stdout",
     "output_type": "stream",
     "text": [
      "96.50090205789756\n",
      "105.10053030303033\n"
     ]
    },
    {
     "data": {
      "text/html": [
       "<div>\n",
       "<style scoped>\n",
       "    .dataframe tbody tr th:only-of-type {\n",
       "        vertical-align: middle;\n",
       "    }\n",
       "\n",
       "    .dataframe tbody tr th {\n",
       "        vertical-align: top;\n",
       "    }\n",
       "\n",
       "    .dataframe thead th {\n",
       "        text-align: right;\n",
       "    }\n",
       "</style>\n",
       "<table border=\"1\" class=\"dataframe\">\n",
       "  <thead>\n",
       "    <tr style=\"text-align: right;\">\n",
       "      <th></th>\n",
       "      <th>group_name</th>\n",
       "      <th>hour</th>\n",
       "    </tr>\n",
       "  </thead>\n",
       "  <tbody>\n",
       "    <tr>\n",
       "      <th>0</th>\n",
       "      <td>finished_tutorial</td>\n",
       "      <td>96.5</td>\n",
       "    </tr>\n",
       "    <tr>\n",
       "      <th>1</th>\n",
       "      <td>not_started_tutorial</td>\n",
       "      <td>105.1</td>\n",
       "    </tr>\n",
       "  </tbody>\n",
       "</table>\n",
       "</div>"
      ],
      "text/plain": [
       "             group_name   hour\n",
       "0     finished_tutorial   96.5\n",
       "1  not_started_tutorial  105.1"
      ]
     },
     "metadata": {},
     "output_type": "display_data"
    },
    {
     "data": {
      "text/plain": [
       "Text(0.5, 1.0, 'Время прохождения от этапа регистрации до оплаты для пользователей')"
      ]
     },
     "execution_count": 254,
     "metadata": {},
     "output_type": "execute_result"
    },
    {
     "data": {
      "image/png": "[encoded data removed]",
      "text/plain": [
       "<Figure size 936x288 with 1 Axes>"
      ]
     },
     "metadata": {
      "needs_background": "light"
     },
     "output_type": "display_data"
    }
   ],
   "source": [
    "# Для каждой группы подсчитываем среднее время между событиями оплаты и регистрации:\n",
    "merged_df_2 = finished_tutorial_registration_df.merge(finished_tutorial_purchase_df1, on=\"user_id\", how=\"inner\")\n",
    "merged_df_2[\"timedelta\"] = (merged_df_2[\"purchase_time\"] - merged_df_2[\"start_time\"])/pd.Timedelta('1 hour')\n",
    "print(merged_df_2[\"timedelta\"].mean())\n",
    "merged_df_3 = not_started_tutorial_registration_df.merge(not_started_tutorial_purchase_df1, on=\"user_id\", how=\"inner\")\n",
    "merged_df_3[\"timedelta\"] = (merged_df_3[\"purchase_time\"] - merged_df_3[\"start_time\"])/pd.Timedelta('1 hour')\n",
    "print(merged_df_3[\"timedelta\"].mean())\n",
    "data = {'group_name': ['finished_tutorial','not_started_tutorial'],\n",
    "        'hour': [96.5, 105.1]}\n",
    "df = pd.DataFrame(data)\n",
    "display(df)\n",
    "\n",
    "# Визуализируем результат:\n",
    "fig = plt.figure(figsize=(13, 4))\n",
    "main_axes = fig.add_axes([0, 0, 1, 1])\n",
    "main_axes.bar(x = df.group_name, height = df.hour);\n",
    "main_axes.set_ylabel('Количество часов')\n",
    "main_axes.set_title('Время прохождения от этапа регистрации до оплаты для пользователей')"
   ]
  },
  {
   "cell_type": "code",
   "execution_count": 258,
   "metadata": {},
   "outputs": [],
   "source": [
    "# Для каждой группы создаем датафреймы с событиями выбора уровня сложности:\n",
    "not_started_tutorial_level_choice_df = total_events_df[total_events_df[\"event_type\"] == 'level_choice']\n",
    "not_started_tutorial_level_choice_df = not_started_tutorial_level_choice_df[not_started_tutorial_level_choice_df[\"user_id\"].isin(set_users_not_started_tutorial)]\n",
    "not_started_tutorial_level_choice_df = not_started_tutorial_level_choice_df.sort_values('start_time').drop_duplicates('user_id')\n",
    "finished_tutorial_level_choice_df = total_events_df[total_events_df[\"event_type\"] == 'level_choice']\n",
    "finished_tutorial_level_choice_df = finished_tutorial_level_choice_df[finished_tutorial_level_choice_df[\"user_id\"].isin(users_with_finished_tutorial)]\n",
    "finished_tutorial_level_choice_df = finished_tutorial_level_choice_df.sort_values('start_time').drop_duplicates('user_id')\n",
    "not_started_tutorial_level_choice_df1 = not_started_tutorial_level_choice_df[[\"user_id\", \"start_time\"]].rename(columns={\"start_time\": \"level_choice_time\"})\n",
    "finished_tutorial_level_choice_df1 = finished_tutorial_level_choice_df[[\"user_id\", \"start_time\"]].rename(columns={\"start_time\": \"level_choice_time\"})"
   ]
  },
  {
   "cell_type": "code",
   "execution_count": 260,
   "metadata": {},
   "outputs": [
    {
     "name": "stdout",
     "output_type": "stream",
     "text": [
      "89.39026510788604\n",
      "100.91563131313129\n"
     ]
    },
    {
     "data": {
      "text/html": [
       "<div>\n",
       "<style scoped>\n",
       "    .dataframe tbody tr th:only-of-type {\n",
       "        vertical-align: middle;\n",
       "    }\n",
       "\n",
       "    .dataframe tbody tr th {\n",
       "        vertical-align: top;\n",
       "    }\n",
       "\n",
       "    .dataframe thead th {\n",
       "        text-align: right;\n",
       "    }\n",
       "</style>\n",
       "<table border=\"1\" class=\"dataframe\">\n",
       "  <thead>\n",
       "    <tr style=\"text-align: right;\">\n",
       "      <th></th>\n",
       "      <th>group_name</th>\n",
       "      <th>hour</th>\n",
       "    </tr>\n",
       "  </thead>\n",
       "  <tbody>\n",
       "    <tr>\n",
       "      <th>0</th>\n",
       "      <td>finished_tutorial</td>\n",
       "      <td>89.39</td>\n",
       "    </tr>\n",
       "    <tr>\n",
       "      <th>1</th>\n",
       "      <td>not_started_tutorial</td>\n",
       "      <td>100.91</td>\n",
       "    </tr>\n",
       "  </tbody>\n",
       "</table>\n",
       "</div>"
      ],
      "text/plain": [
       "             group_name    hour\n",
       "0     finished_tutorial   89.39\n",
       "1  not_started_tutorial  100.91"
      ]
     },
     "metadata": {},
     "output_type": "display_data"
    },
    {
     "data": {
      "text/plain": [
       "Text(0.5, 1.0, 'Время прохождения от этапа выбора уровня сложности до оплаты для пользователей')"
      ]
     },
     "execution_count": 260,
     "metadata": {},
     "output_type": "execute_result"
    },
    {
     "data": {
      "image/png": "[encoded data removed]",
      "text/plain": [
       "<Figure size 936x288 with 1 Axes>"
      ]
     },
     "metadata": {
      "needs_background": "light"
     },
     "output_type": "display_data"
    }
   ],
   "source": [
    "# Для каждой группы подсчитываем среднее время между событиями оплаты и выбора уровня сложности:\n",
    "merged_df_4 = finished_tutorial_level_choice_df1.merge(finished_tutorial_purchase_df1, on=\"user_id\", how=\"inner\")\n",
    "merged_df_4[\"timedelta\"] = (merged_df_4[\"purchase_time\"] - merged_df_4[\"level_choice_time\"])/pd.Timedelta('1 hour')\n",
    "print(merged_df_4[\"timedelta\"].mean())\n",
    "merged_df_5 = not_started_tutorial_level_choice_df1.merge(not_started_tutorial_purchase_df1, on=\"user_id\", how=\"inner\")\n",
    "merged_df_5[\"timedelta\"] = (merged_df_5[\"purchase_time\"] - merged_df_5[\"level_choice_time\"])/pd.Timedelta('1 hour')\n",
    "print(merged_df_5[\"timedelta\"].mean())\n",
    "data = {'group_name': ['finished_tutorial','not_started_tutorial'],\n",
    "        'hour': [89.39, 100.91]}\n",
    "df1 = pd.DataFrame(data)\n",
    "display(df1)\n",
    "\n",
    "# Визуализируем результат:\n",
    "fig = plt.figure(figsize=(13, 4))\n",
    "main_axes = fig.add_axes([0, 0, 1, 1])\n",
    "main_axes.bar(x = df.group_name, height = df.hour);\n",
    "main_axes.set_ylabel('Количество часов')\n",
    "main_axes.set_title('Время прохождения от этапа выбора уровня сложности до оплаты для пользователей')"
   ]
  },
  {
   "cell_type": "code",
   "execution_count": 261,
   "metadata": {},
   "outputs": [],
   "source": [
    "# Для каждой группы создаем датафреймы с событиями выбора пакетов вопросов:\n",
    "not_started_tutorial_pack_choice_df = total_events_df[total_events_df[\"event_type\"] == 'pack_choice']\n",
    "not_started_tutorial_pack_choice_df = not_started_tutorial_pack_choice_df[not_started_tutorial_pack_choice_df[\"user_id\"].isin(set_users_not_started_tutorial)]\n",
    "not_started_tutorial_pack_choice_df = not_started_tutorial_pack_choice_df.sort_values('start_time').drop_duplicates('user_id')\n",
    "finished_tutorial_pack_choice_df = total_events_df[total_events_df[\"event_type\"] == 'pack_choice']\n",
    "finished_tutorial_pack_choice_df = finished_tutorial_pack_choice_df[finished_tutorial_pack_choice_df[\"user_id\"].isin(users_with_finished_tutorial)]\n",
    "finished_tutorial_pack_choice_df = finished_tutorial_pack_choice_df.sort_values('start_time').drop_duplicates('user_id')\n",
    "not_started_tutorial_pack_choice_df1 = not_started_tutorial_pack_choice_df[[\"user_id\", \"start_time\"]].rename(columns={\"start_time\": \"pack_choice_time\"})\n",
    "finished_tutorial_pack_choice_df1 = finished_tutorial_pack_choice_df[[\"user_id\", \"start_time\"]].rename(columns={\"start_time\": \"pack_choice_time\"})"
   ]
  },
  {
   "cell_type": "code",
   "execution_count": 262,
   "metadata": {},
   "outputs": [
    {
     "name": "stdout",
     "output_type": "stream",
     "text": [
      "89.29990036857868\n",
      "100.82599747474747\n"
     ]
    },
    {
     "data": {
      "text/html": [
       "<div>\n",
       "<style scoped>\n",
       "    .dataframe tbody tr th:only-of-type {\n",
       "        vertical-align: middle;\n",
       "    }\n",
       "\n",
       "    .dataframe tbody tr th {\n",
       "        vertical-align: top;\n",
       "    }\n",
       "\n",
       "    .dataframe thead th {\n",
       "        text-align: right;\n",
       "    }\n",
       "</style>\n",
       "<table border=\"1\" class=\"dataframe\">\n",
       "  <thead>\n",
       "    <tr style=\"text-align: right;\">\n",
       "      <th></th>\n",
       "      <th>group_name</th>\n",
       "      <th>hour</th>\n",
       "    </tr>\n",
       "  </thead>\n",
       "  <tbody>\n",
       "    <tr>\n",
       "      <th>0</th>\n",
       "      <td>finished_tutorial</td>\n",
       "      <td>89.29</td>\n",
       "    </tr>\n",
       "    <tr>\n",
       "      <th>1</th>\n",
       "      <td>not_started_tutorial</td>\n",
       "      <td>100.82</td>\n",
       "    </tr>\n",
       "  </tbody>\n",
       "</table>\n",
       "</div>"
      ],
      "text/plain": [
       "             group_name    hour\n",
       "0     finished_tutorial   89.29\n",
       "1  not_started_tutorial  100.82"
      ]
     },
     "metadata": {},
     "output_type": "display_data"
    },
    {
     "data": {
      "text/plain": [
       "Text(0.5, 1.0, 'Время прохождения от этапа выбора пакетов вопросов до оплаты для пользователей')"
      ]
     },
     "execution_count": 262,
     "metadata": {},
     "output_type": "execute_result"
    },
    {
     "data": {
      "image/png": "[encoded data removed]",
      "text/plain": [
       "<Figure size 936x288 with 1 Axes>"
      ]
     },
     "metadata": {
      "needs_background": "light"
     },
     "output_type": "display_data"
    }
   ],
   "source": [
    "\n",
    "# Для каждой группы подсчитываем среднее время между событиями оплаты и выбором пакетов вопросов:\n",
    "merged_df_6 = finished_tutorial_pack_choice_df1.merge(finished_tutorial_purchase_df1, on=\"user_id\", how=\"inner\")\n",
    "merged_df_6[\"timedelta\"] = (merged_df_6[\"purchase_time\"] - merged_df_6[\"pack_choice_time\"])/pd.Timedelta('1 hour')\n",
    "print(merged_df_6[\"timedelta\"].mean())\n",
    "merged_df_7 = not_started_tutorial_pack_choice_df1.merge(not_started_tutorial_purchase_df1, on=\"user_id\", how=\"inner\")\n",
    "merged_df_7[\"timedelta\"] = (merged_df_7[\"purchase_time\"] - merged_df_7[\"pack_choice_time\"])/pd.Timedelta('1 hour')\n",
    "print(merged_df_7[\"timedelta\"].mean())\n",
    "data = {'group_name': ['finished_tutorial','not_started_tutorial'],\n",
    "        'hour': [89.29, 100.82]}\n",
    "df1 = pd.DataFrame(data)\n",
    "display(df1)\n",
    "\n",
    "# Визуализируем результат:\n",
    "fig = plt.figure(figsize=(13, 4))\n",
    "main_axes = fig.add_axes([0, 0, 1, 1])\n",
    "main_axes.bar(x = df.group_name, height = df.hour);\n",
    "main_axes.set_ylabel('Количество часов')\n",
    "main_axes.set_title('Время прохождения от этапа выбора пакетов вопросов до оплаты для пользователей')"
   ]
  },
  {
   "cell_type": "code",
   "execution_count": 263,
   "metadata": {},
   "outputs": [],
   "source": [
    "# Создаем датафреймы с событиями регистрации и началом обучения для группы с оконченным обучением:\n",
    "finished_tutorial_registration_df = total_events_df[total_events_df[\"event_type\"] == \"registration\"]\n",
    "finished_tutorial_registration_df = finished_tutorial_registration_df[finished_tutorial_registration_df['user_id'].isin(users_with_finished_tutorial)]\n",
    "finished_tutorial_registration_df = finished_tutorial_registration_df.sort_values('start_time').drop_duplicates('user_id')\n",
    "finished_tutorial_tutorial_start_df = total_events_df[total_events_df[\"event_type\"] == \"tutorial_start\"]\n",
    "finished_tutorial_tutorial_start_df = finished_tutorial_tutorial_start_df[finished_tutorial_tutorial_start_df[\"user_id\"].isin(users_with_finished_tutorial)]\n",
    "finished_tutorial_tutorial_start_df = finished_tutorial_tutorial_start_df.sort_values('start_time').drop_duplicates('user_id')\n",
    "finished_tutorial_tutorial_start_df1 = finished_tutorial_tutorial_start_df[[\"user_id\", \"start_time\"]].rename(columns={\"start_time\": \"tutorial_start\"})\n",
    "\n",
    "# Создаем датафреймы с событиями регистрации и выбором уровня сложности для группы без обучения:\n",
    "not_started_tutorial_registration_df = total_events_df[total_events_df[\"event_type\"] == \"registration\"]\n",
    "not_started_tutorial_registration_df = not_started_tutorial_registration_df[not_started_tutorial_registration_df['user_id'].isin(set_users_not_started_tutorial)]\n",
    "not_started_tutorial_registration_df = not_started_tutorial_registration_df.sort_values('start_time').drop_duplicates('user_id')\n",
    "not_started_tutorial_level_choice_df = total_events_df[total_events_df[\"event_type\"] == 'level_choice']\n",
    "not_started_tutorial_level_choice_df = not_started_tutorial_level_choice_df[not_started_tutorial_level_choice_df[\"user_id\"].isin(set_users_not_started_tutorial)]\n",
    "not_started_tutorial_level_choice_df = not_started_tutorial_level_choice_df.sort_values('start_time').drop_duplicates('user_id')\n",
    "not_started_tutorial_level_choice_df1 = not_started_tutorial_level_choice_df[[\"user_id\", \"start_time\"]].rename(columns={\"start_time\": \"level_choice_time\"})\n"
   ]
  },
  {
   "cell_type": "code",
   "execution_count": 366,
   "metadata": {},
   "outputs": [
    {
     "name": "stdout",
     "output_type": "stream",
     "text": [
      "4.518038373983739\n",
      "5.259200680272109\n"
     ]
    },
    {
     "data": {
      "text/html": [
       "<div>\n",
       "<style scoped>\n",
       "    .dataframe tbody tr th:only-of-type {\n",
       "        vertical-align: middle;\n",
       "    }\n",
       "\n",
       "    .dataframe tbody tr th {\n",
       "        vertical-align: top;\n",
       "    }\n",
       "\n",
       "    .dataframe thead th {\n",
       "        text-align: right;\n",
       "    }\n",
       "</style>\n",
       "<table border=\"1\" class=\"dataframe\">\n",
       "  <thead>\n",
       "    <tr style=\"text-align: right;\">\n",
       "      <th></th>\n",
       "      <th>group_name</th>\n",
       "      <th>hour</th>\n",
       "    </tr>\n",
       "  </thead>\n",
       "  <tbody>\n",
       "    <tr>\n",
       "      <th>0</th>\n",
       "      <td>finished_tutorial</td>\n",
       "      <td>4.52</td>\n",
       "    </tr>\n",
       "    <tr>\n",
       "      <th>1</th>\n",
       "      <td>not_started_tutorial</td>\n",
       "      <td>5.26</td>\n",
       "    </tr>\n",
       "  </tbody>\n",
       "</table>\n",
       "</div>"
      ],
      "text/plain": [
       "             group_name  hour\n",
       "0     finished_tutorial  4.52\n",
       "1  not_started_tutorial  5.26"
      ]
     },
     "metadata": {},
     "output_type": "display_data"
    },
    {
     "data": {
      "text/plain": [
       "Text(0.5, 1.0, 'Время прохождения регистрации для пользователей с обучением и без обучения')"
      ]
     },
     "execution_count": 366,
     "metadata": {},
     "output_type": "execute_result"
    },
    {
     "data": {
      "image/png": "[encoded data removed]",
      "text/plain": [
       "<Figure size 936x288 with 1 Axes>"
      ]
     },
     "metadata": {
      "needs_background": "light"
     },
     "output_type": "display_data"
    }
   ],
   "source": [
    "# Подсчитываем среднее время между событиями регистрации и началом обучения для группы с оконченным обучением:\n",
    "merged_df_8 = finished_tutorial_registration_df.merge(finished_tutorial_tutorial_start_df1, on=\"user_id\", how=\"inner\")\n",
    "merged_df_8[\"timedelta\"] = (merged_df_8[\"tutorial_start\"] - merged_df_8[\"start_time\"])/pd.Timedelta('1 hour')\n",
    "print(merged_df_8[\"timedelta\"].mean())\n",
    "\n",
    "# Подсчитываем среднее время между событиями регистрации и выбором уровня сложности для группы без обучения:\n",
    "merged_df_9 = not_started_tutorial_registration_df.merge(not_started_tutorial_level_choice_df1, on=\"user_id\", how=\"inner\")\n",
    "merged_df_9[\"timedelta\"] = (merged_df_9[\"level_choice_time\"] - merged_df_9[\"start_time\"])/pd.Timedelta('1 hour')\n",
    "print(merged_df_9[\"timedelta\"].mean())\n",
    "data = {'group_name': ['finished_tutorial','not_started_tutorial'],\n",
    "        'hour': [4.52, 5.26]}\n",
    "df = pd.DataFrame(data)\n",
    "display(df)\n",
    "\n",
    "# Визуализируем результат:\n",
    "fig = plt.figure(figsize=(13, 4))\n",
    "main_axes = fig.add_axes([0, 0, 1, 1])\n",
    "main_axes.bar(x = df.group_name, height = df.hour);\n",
    "main_axes.set_ylabel('Количество часов')\n",
    "main_axes.set_title('Время прохождения регистрации для пользователей с обучением и без обучения')"
   ]
  },
  {
   "cell_type": "markdown",
   "metadata": {},
   "source": [
    "                                                          Гипотеза 2"
   ]
  },
  {
   "cell_type": "code",
   "execution_count": 362,
   "metadata": {},
   "outputs": [
    {
     "data": {
      "text/html": [
       "<div>\n",
       "<style scoped>\n",
       "    .dataframe tbody tr th:only-of-type {\n",
       "        vertical-align: middle;\n",
       "    }\n",
       "\n",
       "    .dataframe tbody tr th {\n",
       "        vertical-align: top;\n",
       "    }\n",
       "\n",
       "    .dataframe thead tr th {\n",
       "        text-align: left;\n",
       "    }\n",
       "</style>\n",
       "<table border=\"1\" class=\"dataframe\">\n",
       "  <thead>\n",
       "    <tr>\n",
       "      <th></th>\n",
       "      <th>tutorial_attempts</th>\n",
       "      <th>user_id</th>\n",
       "      <th>purchase</th>\n",
       "      <th>percent</th>\n",
       "    </tr>\n",
       "    <tr>\n",
       "      <th></th>\n",
       "      <th></th>\n",
       "      <th>count</th>\n",
       "      <th>sum</th>\n",
       "      <th></th>\n",
       "    </tr>\n",
       "  </thead>\n",
       "  <tbody>\n",
       "    <tr>\n",
       "      <th>0</th>\n",
       "      <td>0</td>\n",
       "      <td>8068</td>\n",
       "      <td>22</td>\n",
       "      <td>0.27</td>\n",
       "    </tr>\n",
       "    <tr>\n",
       "      <th>1</th>\n",
       "      <td>1</td>\n",
       "      <td>9103</td>\n",
       "      <td>1207</td>\n",
       "      <td>13.26</td>\n",
       "    </tr>\n",
       "    <tr>\n",
       "      <th>2</th>\n",
       "      <td>2</td>\n",
       "      <td>1589</td>\n",
       "      <td>218</td>\n",
       "      <td>13.72</td>\n",
       "    </tr>\n",
       "    <tr>\n",
       "      <th>3</th>\n",
       "      <td>3</td>\n",
       "      <td>427</td>\n",
       "      <td>51</td>\n",
       "      <td>11.94</td>\n",
       "    </tr>\n",
       "    <tr>\n",
       "      <th>4</th>\n",
       "      <td>4</td>\n",
       "      <td>221</td>\n",
       "      <td>30</td>\n",
       "      <td>13.57</td>\n",
       "    </tr>\n",
       "    <tr>\n",
       "      <th>5</th>\n",
       "      <td>5</td>\n",
       "      <td>109</td>\n",
       "      <td>16</td>\n",
       "      <td>14.68</td>\n",
       "    </tr>\n",
       "    <tr>\n",
       "      <th>6</th>\n",
       "      <td>6</td>\n",
       "      <td>116</td>\n",
       "      <td>14</td>\n",
       "      <td>12.07</td>\n",
       "    </tr>\n",
       "    <tr>\n",
       "      <th>7</th>\n",
       "      <td>7</td>\n",
       "      <td>94</td>\n",
       "      <td>12</td>\n",
       "      <td>12.77</td>\n",
       "    </tr>\n",
       "    <tr>\n",
       "      <th>8</th>\n",
       "      <td>8</td>\n",
       "      <td>86</td>\n",
       "      <td>13</td>\n",
       "      <td>15.12</td>\n",
       "    </tr>\n",
       "    <tr>\n",
       "      <th>9</th>\n",
       "      <td>9</td>\n",
       "      <td>113</td>\n",
       "      <td>17</td>\n",
       "      <td>15.04</td>\n",
       "    </tr>\n",
       "  </tbody>\n",
       "</table>\n",
       "</div>"
      ],
      "text/plain": [
       "  tutorial_attempts user_id purchase percent\n",
       "                      count      sum        \n",
       "0                 0    8068       22    0.27\n",
       "1                 1    9103     1207   13.26\n",
       "2                 2    1589      218   13.72\n",
       "3                 3     427       51   11.94\n",
       "4                 4     221       30   13.57\n",
       "5                 5     109       16   14.68\n",
       "6                 6     116       14   12.07\n",
       "7                 7      94       12   12.77\n",
       "8                 8      86       13   15.12\n",
       "9                 9     113       17   15.04"
      ]
     },
     "metadata": {},
     "output_type": "display_data"
    },
    {
     "data": {
      "image/png": "[encoded data removed]",
      "text/plain": [
       "<Figure size 936x288 with 1 Axes>"
      ]
     },
     "metadata": {
      "needs_background": "light"
     },
     "output_type": "display_data"
    }
   ],
   "source": [
    "# Создаем список пользователей совершивших покупку:\n",
    "set_users_with_purchase = set(total_events_df[total_events_df['event_type'] == 'purchase'][\"user_id\"].unique())\n",
    "users_with_tutorial = total_events_df[total_events_df['event_type'] == 'tutorial_id'][\"user_id\"].unique()\n",
    "# Создаем DF с количеством законченных обучений:\n",
    "tutorial_attempts_df = total_events_df.groupby('user_id')['tutorial_id'].nunique().reset_index()\n",
    "tutorial_attempts_df = tutorial_attempts_df.rename(columns={'tutorial_id':'tutorial_attempts'})\n",
    "# Добавляем столбец purchase с количеством оплат:\n",
    "tutorial_attempts_df['purchase'] = tutorial_attempts_df.apply(lambda x: 1 if x['user_id'] in set_users_with_purchase else 0, axis=1)\n",
    "# Группируем согласно попыткам обучения:\n",
    "df_tutorial = tutorial_attempts_df.groupby(by=['tutorial_attempts'],as_index=True).agg({'user_id':['count'],'purchase':['sum']}).sort_values(by='tutorial_attempts', ascending=True).reset_index()\n",
    "# Добавляем столбец percent с конверсией пользователей в клиенты:\n",
    "df_tutorial['percent']= round(((df_tutorial['purchase']['sum']/df_tutorial['user_id']['count'])*100),2)\n",
    "display(df_tutorial)\n",
    "\n",
    "# Визуализируем результат:\n",
    "fig = plt.figure(figsize=(13, 4))\n",
    "main_axes = fig.add_axes([0, 0, 1, 1])\n",
    "main_axes.bar(x = df_tutorial['tutorial_attempts'], height = df_tutorial['percent']);\n",
    "main_axes.set_xlabel('Количество повторных обучений')\n",
    "main_axes.set_ylabel('Конверсия, %')\n",
    "main_axes.set_xticks(df_tutorial['tutorial_attempts'])\n",
    "main_axes.set_title('Конверсия пользователей в клиенты согласно количеству обучений')\n",
    "\n",
    "x = df_tutorial['tutorial_attempts']\n",
    "y = df_tutorial['percent']\n",
    "for i in list(x):\n",
    "    plt.text(i,y[i],y[i], ha= \"center\", va= \"bottom\")"
   ]
  },
  {
   "cell_type": "markdown",
   "metadata": {},
   "source": [
    "                                                Гипотеза 3"
   ]
  },
  {
   "cell_type": "code",
   "execution_count": 278,
   "metadata": {},
   "outputs": [
    {
     "data": {
      "text/plain": [
       "1386"
      ]
     },
     "execution_count": 278,
     "metadata": {},
     "output_type": "execute_result"
    }
   ],
   "source": [
    "# Создаем датафреймы с событиями начало обучения и выбором уровня сложности:\n",
    "started_tutorial_df = total_events_df[total_events_df[\"event_type\"] == \"tutorial_start\"]\n",
    "started_tutorial_level_choice_df = total_events_df[total_events_df[\"event_type\"] == \"level_choice\"]\n",
    "started_tutorial_level_choice_df1 = started_tutorial_level_choice_df[[\"user_id\", \"start_time\"]].rename(columns={\"start_time\": \"level_choice_time\"})\n",
    "\n",
    "# Объединяем датафреймы с началом обучения и выбором уровня сложности по user_id:\n",
    "merged_df_10 = started_tutorial_df.merge(started_tutorial_level_choice_df1, on=\"user_id\", how=\"inner\")\n",
    "\n",
    "# Подсчитываем время между событиями начало обучения и выбором уровня сложности:\n",
    "merged_df_10[\"timedelta\"] = (merged_df_10[\"start_time\"]- merged_df_10[\"level_choice_time\"])/pd.Timedelta('1 hour')\n",
    "merged_df_10 = merged_df_10[merged_df_10[\"timedelta\"] > 0]\n",
    "merged_df_10['user_id'].nunique()"
   ]
  },
  {
   "cell_type": "markdown",
   "metadata": {},
   "source": [
    "                                              Выводы"
   ]
  },
  {
   "cell_type": "markdown",
   "metadata": {},
   "source": [
    "Гипотеза 1. В рамках проверки гипотезы, результаты исследования поведения пользователей показали, что время прохождения различных этапов у пользователей, которые прошли обучение, и пользователей, не начинавших обучение, отличаются. Так была выяснена закономерность, что пользователи, которые прошли обучение, проходят все этапы игры быстрее, чем пользователи, не начинавшие обучение.  \n",
    "Например, время прохождения от этапа регистрации до оплаты для пользователей, которые прошли обучение, составляет 96.5 часов, а для пользователей, не начинавших обучение 105.1 часов. \n",
    "Время прохождения от этапа выбора уровня сложности до оплаты для пользователей, которые прошли обучение, составляет 89.39 часов, а для пользователей, не начинавших обучение 100.91 часов."
   ]
  },
  {
   "cell_type": "markdown",
   "metadata": {},
   "source": [
    "Гипотеза 2. Результаты исследования показали, что успешное обучение само по себе влияет на оплату и не имеет значения то, каким этапом оно идет. Таким образом, наибольший процент пользователей, оплативших вопросы, приходится на пользователей, прошедших 1 и более обучений и составляет примерно 12-15%. А наименьший процент пользователей, оплативших вопросы, приходится на пользователей, не проходивших обучение ни разу. Он составляет всего 0,27%."
   ]
  },
  {
   "cell_type": "markdown",
   "metadata": {},
   "source": [
    "Гипотеза 3. 1386 пользователей начинают обучение после выбора уровня сложности тренировок. Это позволяет оценить прозрачность процесса взаимодействия с игрой и показывает, что работа с приложением непонятна достаточно большому количеству пользователей, так как они после выбора уровня сложности тренировок обращаются к обучению."
   ]
  }
 ],
 "metadata": {
  "kernelspec": {
   "display_name": "Python 3.10.2 ('venv')",
   "language": "python",
   "name": "python3"
  },
  "language_info": {
   "codemirror_mode": {
    "name": "ipython",
    "version": 3
   },
   "file_extension": ".py",
   "mimetype": "text/x-python",
   "name": "python",
   "nbconvert_exporter": "python",
   "pygments_lexer": "ipython3",
   "version": "3.10.2"
  },
  "orig_nbformat": 4,
  "vscode": {
   "interpreter": {
    "hash": "2328b28135b16d6905de1916ec36468d7d9b4dc5f173df5d6e03514953892388"
   }
  }
 },
 "nbformat": 4,
 "nbformat_minor": 2
}
