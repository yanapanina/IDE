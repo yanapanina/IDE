{
 "cells": [
  {
   "cell_type": "code",
   "execution_count": 102,
   "metadata": {},
   "outputs": [
    {
     "name": "stdout",
     "output_type": "stream",
     "text": [
      "Процент оплат пользователей, выбравших уровень сложности easy (от общего числа пользователей данной группы): 7.72%\n",
      "Процент оплат пользователей, выбравших уровень сложности medium (от общего числа пользователей данной группы): 20.86%\n",
      "Процент оплат пользователей, выбравших уровень сложности hard (от общего числа пользователей данной группы): 35.39%\n"
     ]
    },
    {
     "name": "stderr",
     "output_type": "stream",
     "text": [
      "/var/folders/2t/41ymw9416szdry3f82rfxvr80000gn/T/ipykernel_18409/3430041532.py:7: SettingWithCopyWarning: \n",
      "A value is trying to be set on a copy of a slice from a DataFrame.\n",
      "Try using .loc[row_indexer,col_indexer] = value instead\n",
      "\n",
      "See the caveats in the documentation: https://pandas.pydata.org/pandas-docs/stable/user_guide/indexing.html#returning-a-view-versus-a-copy\n",
      "  events_2018.start_time = pd.to_datetime(events_2018.start_time, format='%Y-%m-%dT%H:%M:%S')\n",
      "/var/folders/2t/41ymw9416szdry3f82rfxvr80000gn/T/ipykernel_18409/3430041532.py:9: SettingWithCopyWarning: \n",
      "A value is trying to be set on a copy of a slice from a DataFrame.\n",
      "Try using .loc[row_indexer,col_indexer] = value instead\n",
      "\n",
      "See the caveats in the documentation: https://pandas.pydata.org/pandas-docs/stable/user_guide/indexing.html#returning-a-view-versus-a-copy\n",
      "  purchase_2018.event_datetime = pd.to_datetime(purchase_2018.event_datetime, format='%Y-%m-%dT%H:%M:%S')\n",
      "/var/folders/2t/41ymw9416szdry3f82rfxvr80000gn/T/ipykernel_18409/3430041532.py:10: SettingWithCopyWarning: \n",
      "A value is trying to be set on a copy of a slice from a DataFrame.\n",
      "Try using .loc[row_indexer,col_indexer] = value instead\n",
      "\n",
      "See the caveats in the documentation: https://pandas.pydata.org/pandas-docs/stable/user_guide/indexing.html#returning-a-view-versus-a-copy\n",
      "  purchase_2018[\"event_type\"] = 'purchase'\n",
      "/var/folders/2t/41ymw9416szdry3f82rfxvr80000gn/T/ipykernel_18409/3430041532.py:29: UserWarning: Boolean Series key will be reindexed to match DataFrame index.\n",
      "  easy_purchase_df = total_events_df[total_events_df[\"event_type\"] == \"purchase\"][total_events_df[\"user_id\"].isin(easy_users_ids)].sort_values('start_time').drop_duplicates('user_id')\n",
      "/var/folders/2t/41ymw9416szdry3f82rfxvr80000gn/T/ipykernel_18409/3430041532.py:30: UserWarning: Boolean Series key will be reindexed to match DataFrame index.\n",
      "  easy_registration_df = total_events_df[total_events_df[\"event_type\"] == \"registration\"][total_events_df[\"user_id\"].isin(easy_users_ids)].sort_values('start_time').drop_duplicates('user_id')\n",
      "/var/folders/2t/41ymw9416szdry3f82rfxvr80000gn/T/ipykernel_18409/3430041532.py:33: UserWarning: Boolean Series key will be reindexed to match DataFrame index.\n",
      "  medium_purchase_df = total_events_df[total_events_df[\"event_type\"] == \"purchase\"][total_events_df[\"user_id\"].isin(medium_users_ids)].sort_values('start_time').drop_duplicates('user_id')\n",
      "/var/folders/2t/41ymw9416szdry3f82rfxvr80000gn/T/ipykernel_18409/3430041532.py:34: UserWarning: Boolean Series key will be reindexed to match DataFrame index.\n",
      "  medium_registration_df = total_events_df[total_events_df[\"event_type\"] == \"registration\"][total_events_df[\"user_id\"].isin(medium_users_ids)].sort_values('start_time').drop_duplicates('user_id')\n",
      "/var/folders/2t/41ymw9416szdry3f82rfxvr80000gn/T/ipykernel_18409/3430041532.py:37: UserWarning: Boolean Series key will be reindexed to match DataFrame index.\n",
      "  hard_purchase_df = total_events_df[total_events_df[\"event_type\"] == \"purchase\"][total_events_df[\"user_id\"].isin(hard_users_ids)].sort_values('start_time').drop_duplicates('user_id')\n",
      "/var/folders/2t/41ymw9416szdry3f82rfxvr80000gn/T/ipykernel_18409/3430041532.py:38: UserWarning: Boolean Series key will be reindexed to match DataFrame index.\n",
      "  hard_registration_df = total_events_df[total_events_df[\"event_type\"] == \"registration\"][total_events_df[\"user_id\"].isin(hard_users_ids)].sort_values('start_time').drop_duplicates('user_id')\n"
     ]
    }
   ],
   "source": [
    "import pandas as pd\n",
    "purchase_df = pd.read_csv('data/purchase.csv', sep=',')\n",
    "events_df = pd.read_csv('data/7_4_Events.csv', sep=',')\n",
    "condition = (events_df.start_time >= '2018-01-01') & (events_df.start_time < '2019-01-01') & (events_df.event_type =='registration')\n",
    "registered = events_df[condition]['user_id'].to_list()\n",
    "events_2018 = events_df[events_df.user_id.isin(registered)]\n",
    "events_2018.start_time = pd.to_datetime(events_2018.start_time, format='%Y-%m-%dT%H:%M:%S')\n",
    "purchase_2018 = purchase_df[purchase_df['user_id'].isin(registered)]\n",
    "purchase_2018.event_datetime = pd.to_datetime(purchase_2018.event_datetime, format='%Y-%m-%dT%H:%M:%S')\n",
    "purchase_2018[\"event_type\"] = 'purchase'\n",
    "events_2018 = events_2018.rename(columns={\"id\": \"event_id\"})\n",
    "purchase_2018 = purchase_2018.rename(columns={\"id\": \"purchase_id\"})\n",
    "purchase_2018 = purchase_2018.rename(columns={\"event_datetime\": \"start_time\"}) \n",
    "total_events_df = pd.concat([events_2018,purchase_2018],sort=False)\n",
    "total_events_df = total_events_df.reset_index(drop=True).sort_values('start_time')\n",
    "registration_df = total_events_df[total_events_df['event_type'] == 'registration']\n",
    "registration_df = registration_df[[\"user_id\", \"start_time\"]].rename(columns={\"start_time\": \"registration_time\"})\n",
    "level_choice_df = total_events_df[total_events_df[\"event_type\"] == \"level_choice\"]\n",
    "level_choice_df = level_choice_df[[\"user_id\", \"start_time\"]].rename(columns={\"start_time\": \"level_choice_time\"})\n",
    "first_purchase_df = total_events_df[total_events_df['event_type'] == 'purchase']\n",
    "first_purchase_df = first_purchase_df[[\"user_id\", \"start_time\"]].rename(columns={\"start_time\": \"first_purchase_time\"})\n",
    "# Создаем группы пользователей в зависимости от выбранной сложности:\n",
    "choiced_easy_df = total_events_df[total_events_df['selected_level'] == 'easy']\n",
    "choiced_medium_df = total_events_df[total_events_df['selected_level'] == 'medium']\n",
    "choiced_hard_df = total_events_df[total_events_df['selected_level'] == 'hard']\n",
    "# Для каждой группы создаем датафреймы: с событиями выбора уровня сложности, с событиями оплаты и регистрации:\n",
    "easy_df = total_events_df[total_events_df[\"selected_level\"] == \"easy\"].sort_values('start_time').drop_duplicates('user_id')\n",
    "easy_users_ids = easy_df['user_id']\n",
    "easy_purchase_df = total_events_df[total_events_df[\"event_type\"] == \"purchase\"][total_events_df[\"user_id\"].isin(easy_users_ids)].sort_values('start_time').drop_duplicates('user_id')\n",
    "easy_registration_df = total_events_df[total_events_df[\"event_type\"] == \"registration\"][total_events_df[\"user_id\"].isin(easy_users_ids)].sort_values('start_time').drop_duplicates('user_id')\n",
    "medium_df = total_events_df[total_events_df[\"selected_level\"] == \"medium\"].sort_values('start_time').drop_duplicates('user_id')\n",
    "medium_users_ids = medium_df['user_id']\n",
    "medium_purchase_df = total_events_df[total_events_df[\"event_type\"] == \"purchase\"][total_events_df[\"user_id\"].isin(medium_users_ids)].sort_values('start_time').drop_duplicates('user_id')\n",
    "medium_registration_df = total_events_df[total_events_df[\"event_type\"] == \"registration\"][total_events_df[\"user_id\"].isin(medium_users_ids)].sort_values('start_time').drop_duplicates('user_id')\n",
    "hard_df = total_events_df[total_events_df[\"selected_level\"] == \"hard\"].sort_values('start_time').drop_duplicates('user_id')\n",
    "hard_users_ids = hard_df['user_id']\n",
    "hard_purchase_df = total_events_df[total_events_df[\"event_type\"] == \"purchase\"][total_events_df[\"user_id\"].isin(hard_users_ids)].sort_values('start_time').drop_duplicates('user_id')\n",
    "hard_registration_df = total_events_df[total_events_df[\"event_type\"] == \"registration\"][total_events_df[\"user_id\"].isin(hard_users_ids)].sort_values('start_time').drop_duplicates('user_id')\n",
    "# Для каждой группы подсчитываем процент пользователей, оплативших пакеты вопросов:\n",
    "percent_choiced_easy = len(easy_purchase_df)/len(easy_df)\n",
    "print(\"Процент оплат пользователей, выбравших уровень сложности easy (от общего числа пользователей данной группы): {:.2%}\".format(percent_choiced_easy))\n",
    "percent_choiced_medium = len(medium_purchase_df)/len(medium_df)\n",
    "print(\"Процент оплат пользователей, выбравших уровень сложности medium (от общего числа пользователей данной группы): {:.2%}\".format(percent_choiced_medium))\n",
    "percent_choiced_hard = len(hard_purchase_df)/len(hard_df)\n",
    "print(\"Процент оплат пользователей, выбравших уровень сложности hard (от общего числа пользователей данной группы): {:.2%}\".format(percent_choiced_hard))"
   ]
  },
  {
   "cell_type": "markdown",
   "metadata": {},
   "source": [
    "Вывод 1. Есть прямая зависимость между выбранным уровнем сложности и вероятностью оплаты у пользователей. Так наивысший процент оплат у пользователей, выбравших уровень сложности hard, он составляет 35.39%, а наименьший процент у пользователей, выбравших уровень сложности easy, он состовляет 7.72%."
   ]
  },
  {
   "cell_type": "code",
   "execution_count": 107,
   "metadata": {},
   "outputs": [
    {
     "name": "stdout",
     "output_type": "stream",
     "text": [
      "3 days 14:58:52.941798941\n",
      "3 days 23:14:13.165118679\n",
      "3 days 07:20:41.420814479\n"
     ]
    }
   ],
   "source": [
    "\n",
    "# Для каждой группы подсчитываем среднее время между событиями оплаты и выбором уровня сложности:\n",
    "easy_df1 = easy_df[[\"user_id\", \"start_time\"]].rename(columns={\"start_time\": \"level_select_time\"})\n",
    "easy_purchase_df1 = easy_purchase_df[[\"user_id\", \"start_time\"]].rename(columns={\"start_time\": \"purchase_time\"})\n",
    "df2 = easy_df1.merge(easy_purchase_df1, how=\"inner\", on=\"user_id\")\n",
    "df2[\"timedelta\"] = df2[\"purchase_time\"] - df2[\"level_select_time\"]\n",
    "print(df2[\"timedelta\"].mean())\n",
    "medium_df1 = medium_df[[\"user_id\", \"start_time\"]].rename(columns={\"start_time\": \"level_select_time\"})\n",
    "medium_purchase_df1 = medium_purchase_df[[\"user_id\", \"start_time\"]].rename(columns={\"start_time\": \"purchase_time\"})\n",
    "df1 = medium_df1.merge(medium_purchase_df1, how=\"inner\", on=\"user_id\")\n",
    "df1[\"timedelta\"] = df1[\"purchase_time\"] - df1[\"level_select_time\"]\n",
    "print(df1[\"timedelta\"].mean())\n",
    "hard_df1 = hard_df[[\"user_id\", \"start_time\"]].rename(columns={\"start_time\": \"level_select_time\"})\n",
    "hard_purchase_df1 = hard_purchase_df[[\"user_id\", \"start_time\"]].rename(columns={\"start_time\": \"purchase_time\"})\n",
    "df3 = hard_df1.merge(hard_purchase_df1, how=\"inner\", on=\"user_id\")\n",
    "df3[\"timedelta\"] = df3[\"purchase_time\"] - df3[\"level_select_time\"]\n",
    "print(df3[\"timedelta\"].mean())"
   ]
  },
  {
   "cell_type": "markdown",
   "metadata": {},
   "source": [
    "Вывод 2. Минимальное среднее время между событиями оплаты и выбором уровня сложности у пользователей, выбравших уровень сложности hard. Оно составляет 3 дня 07:20:41, а максимальное среднее время между событиями оплаты и выбором уровня сложности у пользователей, выбравших уровень сложности medium. Оно составляет 3 дня 23:14:13."
   ]
  },
  {
   "cell_type": "code",
   "execution_count": 108,
   "metadata": {},
   "outputs": [
    {
     "name": "stdout",
     "output_type": "stream",
     "text": [
      "count                          189\n",
      "mean     3 days 22:10:23.211640211\n",
      "std      2 days 07:14:41.062010764\n",
      "min                0 days 04:36:58\n",
      "25%                2 days 01:12:12\n",
      "50%                3 days 11:00:23\n",
      "75%                5 days 10:24:59\n",
      "max               11 days 00:35:04\n",
      "Name: timedelta, dtype: object\n",
      "count                          969\n",
      "mean     4 days 06:12:06.576883384\n",
      "std      2 days 06:25:57.480868026\n",
      "min                0 days 08:39:24\n",
      "25%                2 days 08:46:51\n",
      "50%                4 days 03:35:26\n",
      "75%                5 days 23:51:27\n",
      "max               10 days 20:34:02\n",
      "Name: timedelta, dtype: object\n",
      "count                          442\n",
      "mean     3 days 14:55:19.257918552\n",
      "std      1 days 22:22:52.441896774\n",
      "min                0 days 09:41:39\n",
      "25%         1 days 23:36:25.500000\n",
      "50%         3 days 10:10:04.500000\n",
      "75%         5 days 03:30:07.750000\n",
      "max                8 days 14:21:29\n",
      "Name: timedelta, dtype: object\n"
     ]
    }
   ],
   "source": [
    "\n",
    "# Проверяем, существует ли разница во времени между событиями регистрации и оплаты для каждой из групп:\n",
    "merged_df_1 = easy_registration_df.merge(easy_purchase_df1, on=\"user_id\", how=\"inner\")\n",
    "merged_df_1[\"timedelta\"] = (merged_df_1[\"purchase_time\"] - merged_df_1[\"start_time\"])\n",
    "print(merged_df_1[\"timedelta\"].describe())\n",
    "merged_df_2 = medium_registration_df.merge(medium_purchase_df1, on=\"user_id\", how=\"inner\")\n",
    "merged_df_2[\"timedelta\"] = (merged_df_2[\"purchase_time\"] - merged_df_2[\"start_time\"])\n",
    "print(merged_df_2[\"timedelta\"].describe())\n",
    "merged_df_3 = hard_registration_df.merge(hard_purchase_df1, on=\"user_id\", how=\"inner\")\n",
    "merged_df_3[\"timedelta\"] = (merged_df_3[\"purchase_time\"] - merged_df_3[\"start_time\"])\n",
    "print(merged_df_3[\"timedelta\"].describe())"
   ]
  },
  {
   "cell_type": "markdown",
   "metadata": {},
   "source": [
    "Вывод 3. Существует разница во времени между событиями регистрации и оплаты. Минимальное среднее время между событиями оплаты и регистрацией у пользователей, выбравших уровень сложности hard. Оно составляет 3 days 14:55:19.257918552, а максимальное среднее время между событиями оплаты и регистрацией у пользователей, выбравших уровень сложности medium. Оно составляет 4 дня 06:12:06."
   ]
  }
 ],
 "metadata": {
  "kernelspec": {
   "display_name": "Python 3.10.2 ('venv')",
   "language": "python",
   "name": "python3"
  },
  "language_info": {
   "codemirror_mode": {
    "name": "ipython",
    "version": 3
   },
   "file_extension": ".py",
   "mimetype": "text/x-python",
   "name": "python",
   "nbconvert_exporter": "python",
   "pygments_lexer": "ipython3",
   "version": "3.10.2"
  },
  "orig_nbformat": 4,
  "vscode": {
   "interpreter": {
    "hash": "2328b28135b16d6905de1916ec36468d7d9b4dc5f173df5d6e03514953892388"
   }
  }
 },
 "nbformat": 4,
 "nbformat_minor": 2
}
